{
  "nbformat": 4,
  "nbformat_minor": 0,
  "metadata": {
    "colab": {
      "name": "DNN.ipynb",
      "provenance": []
    },
    "kernelspec": {
      "name": "python3",
      "display_name": "Python 3"
    },
    "language_info": {
      "name": "python"
    }
  },
  "cells": [
    {
      "cell_type": "code",
      "execution_count": 1,
      "metadata": {
        "id": "ed3St-fAnjvm"
      },
      "outputs": [],
      "source": [
        "from sklearn.datasets import load_iris\n",
        "iris=load_iris()\n",
        "x=iris.data\n",
        "y=iris.target"
      ]
    },
    {
      "cell_type": "code",
      "source": [
        "from sklearn.model_selection import train_test_split\n",
        "x_train,x_test,y_train,y_test=train_test_split(x,y,test_size=.25)"
      ],
      "metadata": {
        "id": "NrqTjLtNnytl"
      },
      "execution_count": 2,
      "outputs": []
    },
    {
      "cell_type": "code",
      "source": [
        "import tensorflow as tf\n",
        "from tensorflow import keras"
      ],
      "metadata": {
        "id": "LuCjFq7EoHqT"
      },
      "execution_count": 3,
      "outputs": []
    },
    {
      "cell_type": "code",
      "source": [
        "callback = tf.keras.callbacks.EarlyStopping(monitor='loss', patience=3)"
      ],
      "metadata": {
        "id": "3EeQGDPrPsCO"
      },
      "execution_count": 4,
      "outputs": []
    },
    {
      "cell_type": "code",
      "source": [
        "ML=keras.models.Sequential()"
      ],
      "metadata": {
        "id": "GBUSHrKcoSsn"
      },
      "execution_count": 5,
      "outputs": []
    },
    {
      "cell_type": "code",
      "source": [
        "ML.add(keras.layers.Dense(units=25,activation='relu',input_dim=x.shape[1]))"
      ],
      "metadata": {
        "id": "55dEIuxYoZZF"
      },
      "execution_count": 6,
      "outputs": []
    },
    {
      "cell_type": "code",
      "source": [
        "ML.add(keras.layers.Dense(units=23,activation='relu'))"
      ],
      "metadata": {
        "id": "hOrRgmX6iAXO"
      },
      "execution_count": 7,
      "outputs": []
    },
    {
      "cell_type": "code",
      "source": [
        "ML.add(keras.layers.BatchNormalization(axis=-1,momentum=0.99,epsilon=0.001))"
      ],
      "metadata": {
        "id": "yChFOYkmMFkT"
      },
      "execution_count": 8,
      "outputs": []
    },
    {
      "cell_type": "code",
      "source": [
        "ML.add(keras.layers.Dropout(.8))"
      ],
      "metadata": {
        "id": "96CTd7NEOi7B"
      },
      "execution_count": 9,
      "outputs": []
    },
    {
      "cell_type": "code",
      "source": [
        "ML.add(keras.layers.Dense(units=15,activation='relu'))"
      ],
      "metadata": {
        "id": "7RjTVtr7o1k0"
      },
      "execution_count": 10,
      "outputs": []
    },
    {
      "cell_type": "code",
      "source": [
        "ML.add(keras.layers.Dense(units=13,activation='relu'))"
      ],
      "metadata": {
        "id": "1OM9Njhyo_DZ"
      },
      "execution_count": 11,
      "outputs": []
    },
    {
      "cell_type": "code",
      "source": [
        "ML.add(keras.layers.Dense(units=3,activation='softmax'))"
      ],
      "metadata": {
        "id": "efvtlSZliOoe"
      },
      "execution_count": 12,
      "outputs": []
    },
    {
      "cell_type": "code",
      "source": [
        "ML.summary()"
      ],
      "metadata": {
        "colab": {
          "base_uri": "https://localhost:8080/"
        },
        "id": "jgt_cE1fpEX8",
        "outputId": "bb4f7e72-6184-4ef0-cca4-6fd50d72144c"
      },
      "execution_count": 13,
      "outputs": [
        {
          "output_type": "stream",
          "name": "stdout",
          "text": [
            "Model: \"sequential\"\n",
            "_________________________________________________________________\n",
            " Layer (type)                Output Shape              Param #   \n",
            "=================================================================\n",
            " dense (Dense)               (None, 25)                125       \n",
            "                                                                 \n",
            " dense_1 (Dense)             (None, 23)                598       \n",
            "                                                                 \n",
            " batch_normalization (BatchN  (None, 23)               92        \n",
            " ormalization)                                                   \n",
            "                                                                 \n",
            " dropout (Dropout)           (None, 23)                0         \n",
            "                                                                 \n",
            " dense_2 (Dense)             (None, 15)                360       \n",
            "                                                                 \n",
            " dense_3 (Dense)             (None, 13)                208       \n",
            "                                                                 \n",
            " dense_4 (Dense)             (None, 3)                 42        \n",
            "                                                                 \n",
            "=================================================================\n",
            "Total params: 1,425\n",
            "Trainable params: 1,379\n",
            "Non-trainable params: 46\n",
            "_________________________________________________________________\n"
          ]
        }
      ]
    },
    {
      "cell_type": "code",
      "source": [
        "ML.compile(loss='sparse_categorical_crossentropy',optimizer='sgd',metrics=['accuracy'])"
      ],
      "metadata": {
        "id": "SJjd8cP4pHQm"
      },
      "execution_count": 14,
      "outputs": []
    },
    {
      "cell_type": "code",
      "source": [
        "ML.fit(x_train,y_train,epochs=50,callbacks=[callback])"
      ],
      "metadata": {
        "colab": {
          "base_uri": "https://localhost:8080/"
        },
        "id": "W3eaJkdjpizk",
        "outputId": "4f402f1a-f5f9-44fc-afa7-fff5e21cf966"
      },
      "execution_count": 15,
      "outputs": [
        {
          "output_type": "stream",
          "name": "stdout",
          "text": [
            "Epoch 1/50\n",
            "4/4 [==============================] - 1s 5ms/step - loss: 1.1490 - accuracy: 0.3036\n",
            "Epoch 2/50\n",
            "4/4 [==============================] - 0s 5ms/step - loss: 0.9610 - accuracy: 0.4821\n",
            "Epoch 3/50\n",
            "4/4 [==============================] - 0s 24ms/step - loss: 0.8740 - accuracy: 0.5536\n",
            "Epoch 4/50\n",
            "4/4 [==============================] - 0s 5ms/step - loss: 0.9023 - accuracy: 0.5089\n",
            "Epoch 5/50\n",
            "4/4 [==============================] - 0s 11ms/step - loss: 0.9010 - accuracy: 0.5357\n",
            "Epoch 6/50\n",
            "4/4 [==============================] - 0s 5ms/step - loss: 0.8729 - accuracy: 0.4821\n",
            "Epoch 7/50\n",
            "4/4 [==============================] - 0s 7ms/step - loss: 0.8774 - accuracy: 0.5179\n",
            "Epoch 8/50\n",
            "4/4 [==============================] - 0s 7ms/step - loss: 0.8090 - accuracy: 0.5714\n",
            "Epoch 9/50\n",
            "4/4 [==============================] - 0s 5ms/step - loss: 0.8082 - accuracy: 0.6161\n",
            "Epoch 10/50\n",
            "4/4 [==============================] - 0s 5ms/step - loss: 0.8447 - accuracy: 0.5714\n",
            "Epoch 11/50\n",
            "4/4 [==============================] - 0s 6ms/step - loss: 0.8332 - accuracy: 0.5982\n",
            "Epoch 12/50\n",
            "4/4 [==============================] - 0s 6ms/step - loss: 0.8031 - accuracy: 0.6339\n",
            "Epoch 13/50\n",
            "4/4 [==============================] - 0s 5ms/step - loss: 0.8062 - accuracy: 0.5893\n",
            "Epoch 14/50\n",
            "4/4 [==============================] - 0s 5ms/step - loss: 0.7978 - accuracy: 0.5893\n",
            "Epoch 15/50\n",
            "4/4 [==============================] - 0s 5ms/step - loss: 0.8072 - accuracy: 0.5714\n",
            "Epoch 16/50\n",
            "4/4 [==============================] - 0s 6ms/step - loss: 0.7287 - accuracy: 0.6607\n",
            "Epoch 17/50\n",
            "4/4 [==============================] - 0s 5ms/step - loss: 0.6934 - accuracy: 0.6964\n",
            "Epoch 18/50\n",
            "4/4 [==============================] - 0s 5ms/step - loss: 0.7564 - accuracy: 0.6429\n",
            "Epoch 19/50\n",
            "4/4 [==============================] - 0s 5ms/step - loss: 0.7606 - accuracy: 0.5714\n",
            "Epoch 20/50\n",
            "4/4 [==============================] - 0s 9ms/step - loss: 0.7133 - accuracy: 0.6429\n"
          ]
        },
        {
          "output_type": "execute_result",
          "data": {
            "text/plain": [
              "<keras.callbacks.History at 0x7fa8fb4fd790>"
            ]
          },
          "metadata": {},
          "execution_count": 15
        }
      ]
    },
    {
      "cell_type": "code",
      "source": [
        "test_loss,test_accuracy=ML.evaluate(x_test,y_test)"
      ],
      "metadata": {
        "colab": {
          "base_uri": "https://localhost:8080/"
        },
        "id": "NpN7NQn1pq9y",
        "outputId": "7d8591a9-86ac-4df4-f87a-bfa61f9233c4"
      },
      "execution_count": 16,
      "outputs": [
        {
          "output_type": "stream",
          "name": "stdout",
          "text": [
            "2/2 [==============================] - 0s 13ms/step - loss: 0.8493 - accuracy: 0.6316\n"
          ]
        }
      ]
    },
    {
      "cell_type": "code",
      "source": [
        "print(test_loss,test_accuracy)"
      ],
      "metadata": {
        "colab": {
          "base_uri": "https://localhost:8080/"
        },
        "id": "kNsoC6hJqH_Z",
        "outputId": "f7b63856-941d-4810-aba7-cf89d3b30420"
      },
      "execution_count": 17,
      "outputs": [
        {
          "output_type": "stream",
          "name": "stdout",
          "text": [
            "0.8493244051933289 0.6315789222717285\n"
          ]
        }
      ]
    },
    {
      "cell_type": "code",
      "source": [
        "ML.save(\"/content/dnn\")"
      ],
      "metadata": {
        "colab": {
          "base_uri": "https://localhost:8080/"
        },
        "id": "cFkKaydORa1h",
        "outputId": "f185f82a-8e9f-4bd8-ea68-673ee70feaa5"
      },
      "execution_count": 18,
      "outputs": [
        {
          "output_type": "stream",
          "name": "stdout",
          "text": [
            "INFO:tensorflow:Assets written to: /content/dnn/assets\n"
          ]
        }
      ]
    },
    {
      "cell_type": "markdown",
      "source": [
        "**Load_Wine dataset**"
      ],
      "metadata": {
        "id": "5R5oRu2FigEb"
      }
    },
    {
      "cell_type": "code",
      "source": [
        "from sklearn.datasets import load_wine\n",
        "wine=load_wine()\n",
        "x=wine.data\n",
        "y=wine.target"
      ],
      "metadata": {
        "id": "IBsIgF3byrNx"
      },
      "execution_count": 19,
      "outputs": []
    },
    {
      "cell_type": "code",
      "source": [
        "from sklearn.model_selection import train_test_split\n",
        "x_train,x_test,y_train,y_test=train_test_split(x,y,test_size=.25)"
      ],
      "metadata": {
        "id": "Uyn_F3NnzDHy"
      },
      "execution_count": 20,
      "outputs": []
    },
    {
      "cell_type": "code",
      "source": [
        "import tensorflow as tf\n",
        "from tensorflow import keras"
      ],
      "metadata": {
        "id": "oO0ClOMCzGMw"
      },
      "execution_count": 21,
      "outputs": []
    },
    {
      "cell_type": "code",
      "source": [
        "ML=keras.models.Sequential()"
      ],
      "metadata": {
        "id": "ifCcw4KEzJhx"
      },
      "execution_count": 22,
      "outputs": []
    },
    {
      "cell_type": "code",
      "source": [
        "ML.add(keras.layers.Dense(units=23,activation='relu',input_dim=x.shape[1]))"
      ],
      "metadata": {
        "id": "XwaL1L5QzObm"
      },
      "execution_count": 23,
      "outputs": []
    },
    {
      "cell_type": "code",
      "source": [
        "ML.add(keras.layers.BatchNormalization(axis=-1,momentum=0.99,epsilon=0.001))"
      ],
      "metadata": {
        "id": "phuZerCJNtvg"
      },
      "execution_count": 24,
      "outputs": []
    },
    {
      "cell_type": "code",
      "source": [
        "ML.add(keras.layers.Dropout(.2))"
      ],
      "metadata": {
        "id": "3r2SyZ4jPNC5"
      },
      "execution_count": 25,
      "outputs": []
    },
    {
      "cell_type": "code",
      "source": [
        "ML.add(keras.layers.Dense(units=16,activation='linear'))"
      ],
      "metadata": {
        "id": "qpYxyhsY0KuI"
      },
      "execution_count": 26,
      "outputs": []
    },
    {
      "cell_type": "code",
      "source": [
        "ML.add(keras.layers.Dense(units=20,activation='relu'))"
      ],
      "metadata": {
        "id": "bisysc0wzPU-"
      },
      "execution_count": 27,
      "outputs": []
    },
    {
      "cell_type": "code",
      "source": [
        "ML.add(keras.layers.Dense(units=25,activation='relu'))"
      ],
      "metadata": {
        "id": "iNYiY1y_T9PY"
      },
      "execution_count": 28,
      "outputs": []
    },
    {
      "cell_type": "code",
      "source": [
        "ML.add(keras.layers.Dense(units=19,activation='relu'))"
      ],
      "metadata": {
        "id": "AfEi8OzcULJ9"
      },
      "execution_count": 29,
      "outputs": []
    },
    {
      "cell_type": "code",
      "source": [
        "ML.add(keras.layers.Dense(units=13,activation='sigmoid'))"
      ],
      "metadata": {
        "id": "czttgr3JzW11"
      },
      "execution_count": 30,
      "outputs": []
    },
    {
      "cell_type": "code",
      "source": [
        "ML.summary()"
      ],
      "metadata": {
        "colab": {
          "base_uri": "https://localhost:8080/"
        },
        "id": "tVsyj13xzkgh",
        "outputId": "4a9b9c69-e233-4e20-b706-e603f3e7cc48"
      },
      "execution_count": 31,
      "outputs": [
        {
          "output_type": "stream",
          "name": "stdout",
          "text": [
            "Model: \"sequential_1\"\n",
            "_________________________________________________________________\n",
            " Layer (type)                Output Shape              Param #   \n",
            "=================================================================\n",
            " dense_5 (Dense)             (None, 23)                322       \n",
            "                                                                 \n",
            " batch_normalization_1 (Batc  (None, 23)               92        \n",
            " hNormalization)                                                 \n",
            "                                                                 \n",
            " dropout_1 (Dropout)         (None, 23)                0         \n",
            "                                                                 \n",
            " dense_6 (Dense)             (None, 16)                384       \n",
            "                                                                 \n",
            " dense_7 (Dense)             (None, 20)                340       \n",
            "                                                                 \n",
            " dense_8 (Dense)             (None, 25)                525       \n",
            "                                                                 \n",
            " dense_9 (Dense)             (None, 19)                494       \n",
            "                                                                 \n",
            " dense_10 (Dense)            (None, 13)                260       \n",
            "                                                                 \n",
            "=================================================================\n",
            "Total params: 2,417\n",
            "Trainable params: 2,371\n",
            "Non-trainable params: 46\n",
            "_________________________________________________________________\n"
          ]
        }
      ]
    },
    {
      "cell_type": "code",
      "source": [
        "adam=tf.keras.optimizers.Adam(learning_rate=0.001)"
      ],
      "metadata": {
        "id": "x4vRA1TN1PjU"
      },
      "execution_count": 32,
      "outputs": []
    },
    {
      "cell_type": "code",
      "source": [
        "ML.compile(loss='sparse_categorical_crossentropy',optimizer=adam,metrics=['accuracy'])"
      ],
      "metadata": {
        "id": "DvvGij3-zp27"
      },
      "execution_count": 33,
      "outputs": []
    },
    {
      "cell_type": "code",
      "source": [
        "callback = tf.keras.callbacks.EarlyStopping(monitor='loss', patience=10, restore_best_weights=True)"
      ],
      "metadata": {
        "id": "90Rqy6RiQtgz"
      },
      "execution_count": 34,
      "outputs": []
    },
    {
      "cell_type": "code",
      "source": [
        "checkpoint = keras.callbacks.ModelCheckpoint(\"/content/model.h5\",monitor='val_loss')"
      ],
      "metadata": {
        "id": "HhT7bP0seNW3"
      },
      "execution_count": 35,
      "outputs": []
    },
    {
      "cell_type": "code",
      "source": [
        "ML.fit(x_train,y_train,epochs=500,callbacks=[callback,checkpoint])"
      ],
      "metadata": {
        "colab": {
          "base_uri": "https://localhost:8080/"
        },
        "id": "6jqt2_jLzuek",
        "outputId": "30363f1a-681f-4fe0-9856-249c8b69e3cd"
      },
      "execution_count": 36,
      "outputs": [
        {
          "output_type": "stream",
          "name": "stdout",
          "text": [
            "Epoch 1/500\n",
            "5/5 [==============================] - 2s 18ms/step - loss: 2.4439 - accuracy: 0.1579\n",
            "Epoch 2/500\n",
            "5/5 [==============================] - 0s 17ms/step - loss: 2.3120 - accuracy: 0.4361\n",
            "Epoch 3/500\n",
            "5/5 [==============================] - 0s 21ms/step - loss: 2.1781 - accuracy: 0.5789\n",
            "Epoch 4/500\n",
            "5/5 [==============================] - 0s 21ms/step - loss: 2.0682 - accuracy: 0.6541\n",
            "Epoch 5/500\n",
            "5/5 [==============================] - 0s 22ms/step - loss: 1.9294 - accuracy: 0.6466\n",
            "Epoch 6/500\n",
            "5/5 [==============================] - 0s 33ms/step - loss: 1.7582 - accuracy: 0.6617\n",
            "Epoch 7/500\n",
            "5/5 [==============================] - 0s 32ms/step - loss: 1.5706 - accuracy: 0.6767\n",
            "Epoch 8/500\n",
            "5/5 [==============================] - 0s 39ms/step - loss: 1.3835 - accuracy: 0.6466\n",
            "Epoch 9/500\n",
            "5/5 [==============================] - 0s 25ms/step - loss: 1.2398 - accuracy: 0.6541\n",
            "Epoch 10/500\n",
            "5/5 [==============================] - 0s 22ms/step - loss: 1.0746 - accuracy: 0.6767\n",
            "Epoch 11/500\n",
            "5/5 [==============================] - 0s 27ms/step - loss: 0.9711 - accuracy: 0.6617\n",
            "Epoch 12/500\n",
            "5/5 [==============================] - 0s 26ms/step - loss: 0.9150 - accuracy: 0.6842\n",
            "Epoch 13/500\n",
            "5/5 [==============================] - 0s 30ms/step - loss: 0.8336 - accuracy: 0.6541\n",
            "Epoch 14/500\n",
            "5/5 [==============================] - 0s 23ms/step - loss: 0.7432 - accuracy: 0.6617\n",
            "Epoch 15/500\n",
            "5/5 [==============================] - 0s 20ms/step - loss: 0.7528 - accuracy: 0.6917\n",
            "Epoch 16/500\n",
            "5/5 [==============================] - 0s 21ms/step - loss: 0.7026 - accuracy: 0.6767\n",
            "Epoch 17/500\n",
            "5/5 [==============================] - 0s 20ms/step - loss: 0.6635 - accuracy: 0.6917\n",
            "Epoch 18/500\n",
            "5/5 [==============================] - 0s 17ms/step - loss: 0.6473 - accuracy: 0.7068\n",
            "Epoch 19/500\n",
            "5/5 [==============================] - 0s 21ms/step - loss: 0.7149 - accuracy: 0.7218\n",
            "Epoch 20/500\n",
            "5/5 [==============================] - 0s 24ms/step - loss: 0.6397 - accuracy: 0.7218\n",
            "Epoch 21/500\n",
            "5/5 [==============================] - 0s 37ms/step - loss: 0.6541 - accuracy: 0.6917\n",
            "Epoch 22/500\n",
            "5/5 [==============================] - 0s 23ms/step - loss: 0.6267 - accuracy: 0.6917\n",
            "Epoch 23/500\n",
            "5/5 [==============================] - 0s 19ms/step - loss: 0.6015 - accuracy: 0.6842\n",
            "Epoch 24/500\n",
            "5/5 [==============================] - 0s 34ms/step - loss: 0.6045 - accuracy: 0.6767\n",
            "Epoch 25/500\n",
            "5/5 [==============================] - 0s 33ms/step - loss: 0.5782 - accuracy: 0.7293\n",
            "Epoch 26/500\n",
            "5/5 [==============================] - 0s 20ms/step - loss: 0.6300 - accuracy: 0.6992\n",
            "Epoch 27/500\n",
            "5/5 [==============================] - 0s 19ms/step - loss: 0.5810 - accuracy: 0.7519\n",
            "Epoch 28/500\n",
            "5/5 [==============================] - 0s 17ms/step - loss: 0.6093 - accuracy: 0.7293\n",
            "Epoch 29/500\n",
            "5/5 [==============================] - 0s 18ms/step - loss: 0.5941 - accuracy: 0.7368\n",
            "Epoch 30/500\n",
            "5/5 [==============================] - 0s 18ms/step - loss: 0.5705 - accuracy: 0.7293\n",
            "Epoch 31/500\n",
            "5/5 [==============================] - 0s 18ms/step - loss: 0.5958 - accuracy: 0.7444\n",
            "Epoch 32/500\n",
            "5/5 [==============================] - 0s 22ms/step - loss: 0.5304 - accuracy: 0.7594\n",
            "Epoch 33/500\n",
            "5/5 [==============================] - 0s 18ms/step - loss: 0.5480 - accuracy: 0.7368\n",
            "Epoch 34/500\n",
            "5/5 [==============================] - 0s 28ms/step - loss: 0.5921 - accuracy: 0.7143\n",
            "Epoch 35/500\n",
            "5/5 [==============================] - 0s 44ms/step - loss: 0.5498 - accuracy: 0.7293\n",
            "Epoch 36/500\n",
            "5/5 [==============================] - 0s 32ms/step - loss: 0.5714 - accuracy: 0.7143\n",
            "Epoch 37/500\n",
            "5/5 [==============================] - 0s 21ms/step - loss: 0.5249 - accuracy: 0.7519\n",
            "Epoch 38/500\n",
            "5/5 [==============================] - 0s 19ms/step - loss: 0.5396 - accuracy: 0.7068\n",
            "Epoch 39/500\n",
            "5/5 [==============================] - 0s 24ms/step - loss: 0.5536 - accuracy: 0.7218\n",
            "Epoch 40/500\n",
            "5/5 [==============================] - 0s 25ms/step - loss: 0.5092 - accuracy: 0.7970\n",
            "Epoch 41/500\n",
            "5/5 [==============================] - 0s 34ms/step - loss: 0.5698 - accuracy: 0.7594\n",
            "Epoch 42/500\n",
            "5/5 [==============================] - 0s 25ms/step - loss: 0.5578 - accuracy: 0.7143\n",
            "Epoch 43/500\n",
            "5/5 [==============================] - 0s 26ms/step - loss: 0.5415 - accuracy: 0.7293\n",
            "Epoch 44/500\n",
            "5/5 [==============================] - 0s 21ms/step - loss: 0.5336 - accuracy: 0.7444\n",
            "Epoch 45/500\n",
            "5/5 [==============================] - 0s 38ms/step - loss: 0.5537 - accuracy: 0.7293\n",
            "Epoch 46/500\n",
            "5/5 [==============================] - 0s 29ms/step - loss: 0.5572 - accuracy: 0.7068\n",
            "Epoch 47/500\n",
            "5/5 [==============================] - 0s 29ms/step - loss: 0.5488 - accuracy: 0.7444\n",
            "Epoch 48/500\n",
            "5/5 [==============================] - 0s 24ms/step - loss: 0.5109 - accuracy: 0.7218\n",
            "Epoch 49/500\n",
            "5/5 [==============================] - 0s 20ms/step - loss: 0.5486 - accuracy: 0.7293\n",
            "Epoch 50/500\n",
            "5/5 [==============================] - 0s 23ms/step - loss: 0.5448 - accuracy: 0.7519\n"
          ]
        },
        {
          "output_type": "execute_result",
          "data": {
            "text/plain": [
              "<keras.callbacks.History at 0x7fa8fb1d46d0>"
            ]
          },
          "metadata": {},
          "execution_count": 36
        }
      ]
    },
    {
      "cell_type": "code",
      "source": [
        "test_loss,test_accuracy=ML.evaluate(x_test,y_test)"
      ],
      "metadata": {
        "colab": {
          "base_uri": "https://localhost:8080/"
        },
        "id": "cqksCBWtz1Hz",
        "outputId": "9fbb4a23-5e77-4e9d-e3b6-128e39a1ccf4"
      },
      "execution_count": 37,
      "outputs": [
        {
          "output_type": "stream",
          "name": "stdout",
          "text": [
            "2/2 [==============================] - 0s 10ms/step - loss: 0.6395 - accuracy: 0.7778\n"
          ]
        }
      ]
    },
    {
      "cell_type": "code",
      "source": [
        "print(test_loss,test_accuracy)"
      ],
      "metadata": {
        "colab": {
          "base_uri": "https://localhost:8080/"
        },
        "id": "zOaAb3JQz6-Z",
        "outputId": "6c909ef9-c30f-4d8a-d647-90fedc1cfb00"
      },
      "execution_count": 38,
      "outputs": [
        {
          "output_type": "stream",
          "name": "stdout",
          "text": [
            "0.6395025253295898 0.7777777910232544\n"
          ]
        }
      ]
    },
    {
      "cell_type": "code",
      "source": [
        "ML.save(\"/content/dnn_wine\")"
      ],
      "metadata": {
        "colab": {
          "base_uri": "https://localhost:8080/"
        },
        "id": "XK8kpe0uSCTE",
        "outputId": "eeb96d7e-97e6-4556-dbe3-01216bfd2015"
      },
      "execution_count": 39,
      "outputs": [
        {
          "output_type": "stream",
          "name": "stdout",
          "text": [
            "INFO:tensorflow:Assets written to: /content/dnn_wine/assets\n"
          ]
        }
      ]
    },
    {
      "cell_type": "code",
      "source": [
        "ML= keras.models.load_model(\"/content/dnn_wine\")"
      ],
      "metadata": {
        "id": "lS0QxU_hSY3Y"
      },
      "execution_count": 40,
      "outputs": []
    }
  ]
}